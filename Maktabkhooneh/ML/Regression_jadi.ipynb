{
  "nbformat": 4,
  "nbformat_minor": 0,
  "metadata": {
    "colab": {
      "name": "Regression_jadi.ipynb",
      "provenance": [],
      "collapsed_sections": []
    },
    "kernelspec": {
      "display_name": "Python 3",
      "name": "python3"
    },
    "language_info": {
      "name": "python"
    }
  },
  "cells": [
    {
      "cell_type": "code",
      "metadata": {
        "id": "6XyrDdhbf5Tt"
      },
      "source": [
        "import matplotlib.pyplot as plt\n",
        "import pandas as pd\n",
        "import numpy as np\n",
        "from scipy import stats\n",
        "%matplotlib inline"
      ],
      "execution_count": 23,
      "outputs": []
    },
    {
      "cell_type": "code",
      "metadata": {
        "colab": {
          "base_uri": "https://localhost:8080/"
        },
        "id": "0GmqgPes_eE2",
        "outputId": "ed071bea-de44-4fec-9750-af5b59b96a51"
      },
      "source": [
        "! ls /content/drive/MyDrive/RegressionProject_JADI/"
      ],
      "execution_count": 24,
      "outputs": [
        {
          "output_type": "stream",
          "name": "stdout",
          "text": [
            "HouseP.csv  Untitled0.ipynb\n"
          ]
        }
      ]
    },
    {
      "cell_type": "markdown",
      "metadata": {
        "id": "ljGHuPi3ifY5"
      },
      "source": [
        "Importing Data"
      ]
    },
    {
      "cell_type": "code",
      "metadata": {
        "colab": {
          "base_uri": "https://localhost:8080/",
          "height": 204
        },
        "id": "lp89c3Boicfa",
        "outputId": "ebec011b-fddc-4f72-dbd5-ea2359db8729"
      },
      "source": [
        "df = pd.read_csv(\"/content/drive/MyDrive/RegressionProject_JADI/HouseP.csv\")\n",
        "df.head()"
      ],
      "execution_count": 114,
      "outputs": [
        {
          "output_type": "execute_result",
          "data": {
            "text/html": [
              "<div>\n",
              "<style scoped>\n",
              "    .dataframe tbody tr th:only-of-type {\n",
              "        vertical-align: middle;\n",
              "    }\n",
              "\n",
              "    .dataframe tbody tr th {\n",
              "        vertical-align: top;\n",
              "    }\n",
              "\n",
              "    .dataframe thead th {\n",
              "        text-align: right;\n",
              "    }\n",
              "</style>\n",
              "<table border=\"1\" class=\"dataframe\">\n",
              "  <thead>\n",
              "    <tr style=\"text-align: right;\">\n",
              "      <th></th>\n",
              "      <th>Area</th>\n",
              "      <th>Room</th>\n",
              "      <th>Parking</th>\n",
              "      <th>Warehouse</th>\n",
              "      <th>Elevator</th>\n",
              "      <th>Address</th>\n",
              "      <th>Price</th>\n",
              "      <th>Price(USD)</th>\n",
              "    </tr>\n",
              "  </thead>\n",
              "  <tbody>\n",
              "    <tr>\n",
              "      <th>0</th>\n",
              "      <td>63</td>\n",
              "      <td>1</td>\n",
              "      <td>True</td>\n",
              "      <td>True</td>\n",
              "      <td>True</td>\n",
              "      <td>Shahran</td>\n",
              "      <td>1.850000e+09</td>\n",
              "      <td>61666.67</td>\n",
              "    </tr>\n",
              "    <tr>\n",
              "      <th>1</th>\n",
              "      <td>60</td>\n",
              "      <td>1</td>\n",
              "      <td>True</td>\n",
              "      <td>True</td>\n",
              "      <td>True</td>\n",
              "      <td>Shahran</td>\n",
              "      <td>1.850000e+09</td>\n",
              "      <td>61666.67</td>\n",
              "    </tr>\n",
              "    <tr>\n",
              "      <th>2</th>\n",
              "      <td>79</td>\n",
              "      <td>2</td>\n",
              "      <td>True</td>\n",
              "      <td>True</td>\n",
              "      <td>True</td>\n",
              "      <td>Pardis</td>\n",
              "      <td>5.500000e+08</td>\n",
              "      <td>18333.33</td>\n",
              "    </tr>\n",
              "    <tr>\n",
              "      <th>3</th>\n",
              "      <td>95</td>\n",
              "      <td>2</td>\n",
              "      <td>True</td>\n",
              "      <td>True</td>\n",
              "      <td>True</td>\n",
              "      <td>Shahrake Qods</td>\n",
              "      <td>9.025000e+08</td>\n",
              "      <td>30083.33</td>\n",
              "    </tr>\n",
              "    <tr>\n",
              "      <th>4</th>\n",
              "      <td>123</td>\n",
              "      <td>2</td>\n",
              "      <td>True</td>\n",
              "      <td>True</td>\n",
              "      <td>True</td>\n",
              "      <td>Shahrake Gharb</td>\n",
              "      <td>7.000000e+09</td>\n",
              "      <td>233333.33</td>\n",
              "    </tr>\n",
              "  </tbody>\n",
              "</table>\n",
              "</div>"
            ],
            "text/plain": [
              "  Area  Room  Parking  ...         Address         Price Price(USD)\n",
              "0   63     1     True  ...         Shahran  1.850000e+09   61666.67\n",
              "1   60     1     True  ...         Shahran  1.850000e+09   61666.67\n",
              "2   79     2     True  ...          Pardis  5.500000e+08   18333.33\n",
              "3   95     2     True  ...   Shahrake Qods  9.025000e+08   30083.33\n",
              "4  123     2     True  ...  Shahrake Gharb  7.000000e+09  233333.33\n",
              "\n",
              "[5 rows x 8 columns]"
            ]
          },
          "metadata": {},
          "execution_count": 114
        }
      ]
    },
    {
      "cell_type": "code",
      "metadata": {
        "id": "FVjdZVCeHos_"
      },
      "source": [
        "df[\"Parking\"] = df[\"Parking\"].astype(\"int\") \n",
        "df[\"Warehouse\"] = df[\"Warehouse\"].astype(\"int\") \n",
        "df[\"Elevator\"] = df[\"Elevator\"].astype(\"int\")\n",
        "df[\"Area\"] = [\"\".join(room_.strip().split(\",\")) for room_ in df[\"Area\"].values]\n",
        "df[\"Area\"] = df[\"Area\"].astype(\"int\")"
      ],
      "execution_count": 115,
      "outputs": []
    },
    {
      "cell_type": "code",
      "metadata": {
        "id": "F4D0_HzoGfiw"
      },
      "source": [
        "q_low = df[\"Area\"].quantile(0.01)\n",
        "q_hi  = df[\"Area\"].quantile(0.99)\n",
        "\n",
        "df[\"Area\"] = df[(df[\"Area\"] < q_hi) & (df[\"Area\"] > q_low)]"
      ],
      "execution_count": 116,
      "outputs": []
    },
    {
      "cell_type": "code",
      "metadata": {
        "id": "5rXtAeJ2B7cg"
      },
      "source": [
        "df.dropna(how='any', inplace=True)"
      ],
      "execution_count": 118,
      "outputs": []
    },
    {
      "cell_type": "code",
      "metadata": {
        "colab": {
          "base_uri": "https://localhost:8080/"
        },
        "id": "w31O9Hy9o7Px",
        "outputId": "2310087a-f2c0-438d-b638-8e33db37ef20"
      },
      "source": [
        "df.info()"
      ],
      "execution_count": 119,
      "outputs": [
        {
          "output_type": "stream",
          "name": "stdout",
          "text": [
            "<class 'pandas.core.frame.DataFrame'>\n",
            "Int64Index: 3373 entries, 0 to 3478\n",
            "Data columns (total 8 columns):\n",
            " #   Column      Non-Null Count  Dtype  \n",
            "---  ------      --------------  -----  \n",
            " 0   Area        3373 non-null   object \n",
            " 1   Room        3373 non-null   int64  \n",
            " 2   Parking     3373 non-null   int64  \n",
            " 3   Warehouse   3373 non-null   int64  \n",
            " 4   Elevator    3373 non-null   int64  \n",
            " 5   Address     3373 non-null   object \n",
            " 6   Price       3373 non-null   float64\n",
            " 7   Price(USD)  3373 non-null   float64\n",
            "dtypes: float64(2), int64(4), object(2)\n",
            "memory usage: 237.2+ KB\n"
          ]
        }
      ]
    },
    {
      "cell_type": "code",
      "metadata": {
        "colab": {
          "base_uri": "https://localhost:8080/",
          "height": 298
        },
        "id": "mEmYgpImE_R_",
        "outputId": "b8e4dd4f-f292-46db-ba91-260bfd5be1c0"
      },
      "source": [
        "fig, axs = plt.subplots(2,3)\n",
        "axs[0,0].scatter(df.Area, df.Price)\n",
        "axs[0,0].set_title(\"Area vs Price\")\n",
        "\n",
        "axs[0,1].scatter(df.Parking, df.Price)\n",
        "axs[0,1].set_title(\"Parking vs Price\")\n",
        "\n",
        "axs[0,2].scatter(df.Warehouse, df.Price)\n",
        "axs[0,2].set_title(\"Warehouse vs Price\")\n",
        "\n",
        "axs[1,0].scatter(df.Elevator, df.Price)\n",
        "axs[1,0].set_title(\"Elevator vs Price\")\n",
        "\n",
        "axs[1,1].scatter(df.Address, df.Price)\n",
        "axs[1,1].set_title(\"Address vs Price\")\n",
        "\n",
        "axs[1,2].scatter(df.Room, df.Price)\n",
        "axs[1,2].set_title(\"Room vs Price\")"
      ],
      "execution_count": 80,
      "outputs": [
        {
          "output_type": "execute_result",
          "data": {
            "text/plain": [
              "Text(0.5, 1.0, 'Room vs Price')"
            ]
          },
          "metadata": {},
          "execution_count": 80
        },
        {
          "output_type": "display_data",
          "data": {
            "image/png": "[encoded data removed]",
            "text/plain": [
              "<Figure size 432x288 with 6 Axes>"
            ]
          },
          "metadata": {
            "needs_background": "light"
          }
        }
      ]
    },
    {
      "cell_type": "code",
      "metadata": {
        "id": "mhwx-Qw1Qlft"
      },
      "source": [
        "from sklearn.model_selection import train_test_split\n",
        "from sklearn.preprocessing import StandardScaler, LabelEncoder, MaxAbsScaler, PolynomialFeatures\n",
        "\n",
        "abs_scaled = MaxAbsScaler()\n",
        "abs_scaled.fit(df[[\"Area\", \"Room\"]])\n",
        "df[[\"Area\", \"Room\"]] = abs_scaled.transform(df[[\"Area\", \"Room\"]])\n",
        "\n",
        "#le = LabelEncoder()\n",
        "#le.fit(df[\"Address\"])\n",
        "#address_classes = le.classes_\n",
        "#address_labels = le.transform(df[[\"Address\"]])\n",
        "#df[[\"Address\"]] =  address_labels\n",
        "\n",
        "y = df[[\"Price\"]]\n",
        "x = df.drop([\"Price\", \"Price(USD)\"], axis=1)\n",
        "\n",
        "dummy_address = pd.get_dummies(x, columns=[\"Address\"])\n",
        "x[\"Address\"] = dummy_address\n",
        "\n",
        "xtrain, xtest, ytrain, ytest = train_test_split(x, y, test_size= 0.2)\n"
      ],
      "execution_count": 135,
      "outputs": []
    },
    {
      "cell_type": "markdown",
      "metadata": {
        "id": "SyplAvSfO_q5"
      },
      "source": [
        "Simple linear reggression"
      ]
    },
    {
      "cell_type": "code",
      "metadata": {
        "colab": {
          "base_uri": "https://localhost:8080/"
        },
        "id": "KUGbVyO7NLqK",
        "outputId": "6e89f83c-1301-4d8a-f631-1aaa9edea4ac"
      },
      "source": [
        "from sklearn import linear_model\n",
        "\n",
        "smodel = linear_model.LinearRegression()\n",
        "\n",
        "smodel.fit(xtrain, ytrain)\n",
        "\n",
        "print(\"intercept: \", smodel.intercept_)\n",
        "print(\"coefficients: \", smodel.coef_)"
      ],
      "execution_count": 136,
      "outputs": [
        {
          "output_type": "stream",
          "name": "stdout",
          "text": [
            "intercept:  [-6.11146025e+09]\n",
            "coefficients:  [[ 2.58037070e+10 -7.78373484e+09  5.18130760e+07  8.02977178e+08\n",
            "   7.00956815e+08  2.58037070e+10]]\n"
          ]
        }
      ]
    },
    {
      "cell_type": "code",
      "metadata": {
        "colab": {
          "base_uri": "https://localhost:8080/"
        },
        "id": "MHvIpeHNdJyD",
        "outputId": "8a9e8d2c-c4e3-4dd4-f74d-8af418395a9f"
      },
      "source": [
        "from sklearn.metrics import r2_score\n",
        "\n",
        "ysprediction = smodel.predict(xtest)\n",
        "\n",
        "acc = r2_score(ytest, ysprediction)\n",
        "acc"
      ],
      "execution_count": 137,
      "outputs": [
        {
          "output_type": "execute_result",
          "data": {
            "text/plain": [
              "0.6879177894876898"
            ]
          },
          "metadata": {},
          "execution_count": 137
        }
      ]
    }
  ]
}